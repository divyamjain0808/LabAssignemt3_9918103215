{
 "cells": [
  {
   "cell_type": "code",
   "execution_count": 2,
   "metadata": {},
   "outputs": [
    {
     "name": "stdin",
     "output_type": "stream",
     "text": [
      " 10\n"
     ]
    },
    {
     "name": "stdout",
     "output_type": "stream",
     "text": [
      "Divyam Jai\n",
      "Ajjd\n",
      "\n",
      "Dekjbd\n",
      "\n",
      "Bdaejbd\n",
      "\n",
      "Jakbjebd\n",
      "\n",
      "Bjaebdjkab\n",
      "\n",
      "\n",
      "Thank You \n"
     ]
    }
   ],
   "source": [
    "f=open(\"/Library/Frameworks/Python.framework/Versions/3.9/Resources/English.lproj/Documentation/_sources/Hello.txt\", 'r')\n",
    "num=int(input())\n",
    "for lines in f:\n",
    "    print(lines[:num])\n"
   ]
  },
  {
   "cell_type": "code",
   "execution_count": null,
   "metadata": {},
   "outputs": [],
   "source": []
  }
 ],
 "metadata": {
  "kernelspec": {
   "display_name": "Python 3",
   "language": "python",
   "name": "python3"
  },
  "language_info": {
   "codemirror_mode": {
    "name": "ipython",
    "version": 3
   },
   "file_extension": ".py",
   "mimetype": "text/x-python",
   "name": "python",
   "nbconvert_exporter": "python",
   "pygments_lexer": "ipython3",
   "version": "3.8.5"
  }
 },
 "nbformat": 4,
 "nbformat_minor": 4
}
