{
 "cells": [
  {
   "cell_type": "code",
   "execution_count": 1,
   "metadata": {},
   "outputs": [
    {
     "name": "stdout",
     "output_type": "stream",
     "text": [
      "Per char frequency in 'Jaypee Institute of Information Technology, Noida was established in the year 2001 and has been declared as a  under Section 3 of UGC Act 1956 in the year 2004.' is :\n",
      " {'J': 1, 'a': 12, 'y': 4, 'p': 1, 'e': 16, ' ': 29, 'I': 2, 'n': 10, 's': 6, 't': 9, 'i': 7, 'u': 2, 'o': 8, 'f': 3, 'r': 5, 'm': 1, 'T': 1, 'c': 4, 'h': 5, 'l': 3, 'g': 1, ',': 1, 'N': 1, 'd': 6, 'w': 1, 'b': 2, '2': 2, '0': 4, '1': 2, 'S': 1, '3': 1, 'U': 1, 'G': 1, 'C': 1, 'A': 1, '9': 1, '5': 1, '6': 1, '4': 1, '.': 1}\n"
     ]
    }
   ],
   "source": [
    "input_string = \"Jaypee Institute of Information Technology, Noida was established in the year 2001 and has been declared as a  under Section 3 of UGC Act 1956 in the year 2004.\"\n",
    "frequencies = {} \n",
    "  \n",
    "for char in input_string: \n",
    "   if char in frequencies: \n",
    "      frequencies[char] += 1\n",
    "   else: \n",
    "      frequencies[char] = 1\n",
    "\n",
    "# Show Output\n",
    "print (\"Per char frequency in '{}' is :\\n {}\".format(input_string, str(frequencies)))"
   ]
  },
  {
   "cell_type": "code",
   "execution_count": null,
   "metadata": {},
   "outputs": [],
   "source": []
  }
 ],
 "metadata": {
  "kernelspec": {
   "display_name": "Python 3",
   "language": "python",
   "name": "python3"
  },
  "language_info": {
   "codemirror_mode": {
    "name": "ipython",
    "version": 3
   },
   "file_extension": ".py",
   "mimetype": "text/x-python",
   "name": "python",
   "nbconvert_exporter": "python",
   "pygments_lexer": "ipython3",
   "version": "3.8.5"
  }
 },
 "nbformat": 4,
 "nbformat_minor": 4
}
