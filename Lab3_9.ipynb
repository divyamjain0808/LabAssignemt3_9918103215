{
 "cells": [
  {
   "cell_type": "code",
   "execution_count": 1,
   "metadata": {},
   "outputs": [
    {
     "name": "stdin",
     "output_type": "stream",
     "text": [
      " divyam \n",
      " dvyam jain\n"
     ]
    },
    {
     "name": "stdout",
     "output_type": "stream",
     "text": [
      "Not nearly equal\n"
     ]
    }
   ],
   "source": [
    "def nearly(s1,s2):\n",
    "    c=0\n",
    "    if len(s1)-len(s2)<=1 and len(s1)-len(s2)>=0:\n",
    "\n",
    "       for i in range(0,len(s1)):\n",
    "          if s1[i]==s2[i]:\n",
    "             continue\n",
    "          else:\n",
    "             c+=1\n",
    "          if c==2:\n",
    "             return('Not nearly equal')\n",
    "       return('Nearly Equal')\n",
    "    return('Not nearly equal')\n",
    "\n",
    "if __name__ == \"__main__\" :\n",
    "    s1=input()\n",
    "    s2=input()\n",
    "    result=nearly(s1,s2)\n",
    "    print(result)"
   ]
  },
  {
   "cell_type": "code",
   "execution_count": null,
   "metadata": {},
   "outputs": [],
   "source": []
  }
 ],
 "metadata": {
  "kernelspec": {
   "display_name": "Python 3",
   "language": "python",
   "name": "python3"
  },
  "language_info": {
   "codemirror_mode": {
    "name": "ipython",
    "version": 3
   },
   "file_extension": ".py",
   "mimetype": "text/x-python",
   "name": "python",
   "nbconvert_exporter": "python",
   "pygments_lexer": "ipython3",
   "version": "3.8.5"
  }
 },
 "nbformat": 4,
 "nbformat_minor": 4
}
